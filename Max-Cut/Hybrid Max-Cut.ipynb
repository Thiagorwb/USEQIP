{
 "cells": [
  {
   "cell_type": "markdown",
   "metadata": {},
   "source": [
    "# Max - Cut"
   ]
  },
  {
   "cell_type": "markdown",
   "metadata": {},
   "source": [
    "In this nb, I present an algorithm to solve max-cut on any weighted graph instance by applying the quantum approximate optimization algorithm (QAOA) [1] parametrized by angles that can be optimized over via Bayesian Optimization. The implementation below is based off of the description in a recent paper by the Rigetti Group [2], who run simulations, and an experiment on a 19 qubit processor with particular connectivity.\n",
    "\n",
    "As for an algorithmic description, the key idea is that we can hybridize classical and quantum resources by constructing a low-depth quantum algorithm used as a subroutine in a larger classical computation. A short description of the circuit construction can be found in [2], and the BayesianOptimization package [3] was used for the optimization. Simulation testing was done by generating random graphs of fixed number of nodes, and the ExactEigensolver method in qiskit.aqua was used to obtain the correct value.\n",
    "\n",
    "[1] E. Farhi, J. Goldstone, S. Gutmann e-print arXiv 1411.4028 (2014)\n",
    "\n",
    "[2] Rigetti Computing, 'Unsupervised Machine Learning on a Hybrid Quantum Computer' (2017)\n",
    "\n",
    "[3] https://github.com/fmfn/BayesianOptimization"
   ]
  },
  {
   "cell_type": "code",
   "execution_count": 542,
   "metadata": {},
   "outputs": [],
   "source": [
    "# qiskit and bayesian optimization\n",
    "import numpy as np\n",
    "from qiskit import *\n",
    "from qiskit.visualization import plot_histogram\n",
    "from qiskit.providers.ibmq import least_busy\n",
    "from qiskit.tools.monitor import job_monitor\n",
    "from qiskit import IBMQ\n",
    "from qiskit import BasicAer, execute\n",
    "from math import pi\n",
    "import random\n",
    "from bayes_opt import BayesianOptimization\n",
    "import time"
   ]
  },
  {
   "cell_type": "code",
   "execution_count": 482,
   "metadata": {},
   "outputs": [],
   "source": [
    "# plotting\n",
    "import matplotlib.pyplot as plt\n",
    "import matplotlib.axes as axes\n",
    "%matplotlib inline\n",
    "import numpy as np\n",
    "import networkx as nx"
   ]
  },
  {
   "cell_type": "code",
   "execution_count": 483,
   "metadata": {},
   "outputs": [],
   "source": [
    "# max-cut IBM package\n",
    "from qiskit.aqua import Operator, run_algorithm\n",
    "from qiskit.aqua.input import EnergyInput\n",
    "from qiskit.aqua.translators.ising import max_cut, tsp\n",
    "from qiskit.aqua.algorithms import VQE, ExactEigensolver\n",
    "from qiskit.aqua.components.optimizers import SPSA\n",
    "from qiskit.aqua.components.variational_forms import RY\n",
    "from qiskit.aqua import QuantumInstance\n",
    "\n",
    "# setup aqua logging\n",
    "import logging\n",
    "from qiskit.aqua import set_qiskit_aqua_logging\n"
   ]
  },
  {
   "cell_type": "markdown",
   "metadata": {},
   "source": [
    "## Cut Value Computation"
   ]
  },
  {
   "cell_type": "markdown",
   "metadata": {},
   "source": [
    "Classical computation of max-cut from a partition bitstring."
   ]
  },
  {
   "cell_type": "code",
   "execution_count": 484,
   "metadata": {},
   "outputs": [],
   "source": [
    "def cut_value(adjacency_matrix, edge_weights, partition):\n",
    "    \"\"\"\n",
    "    input: adjacency_matrix, list of lists of boolean values corresponding to existence of edge\n",
    "           edge_weights, list of lists of values\n",
    "           partition, bitstring mapping nodes to 0-1 partition\n",
    "    output: float, cut value corresponding to partition\n",
    "    \"\"\"\n",
    "    \n",
    "    #initialization\n",
    "    N = len(adjacency_matrix)\n",
    "    cut = 0.0\n",
    "    \n",
    "    #cut value\n",
    "    for i in range(N):\n",
    "        for j in range(N):\n",
    "            if i!=j and adjacency_matrix[i][j] == 1 and partition[i] != partition[j] and partition[i] == '0':\n",
    "                cut += edge_weights[i][j]\n",
    "                \n",
    "    return cut"
   ]
  },
  {
   "cell_type": "markdown",
   "metadata": {},
   "source": [
    "## Exact Solution by Brute Force"
   ]
  },
  {
   "cell_type": "code",
   "execution_count": 644,
   "metadata": {},
   "outputs": [],
   "source": [
    "def concatenate(partition_list):\n",
    "    \"\"\"\n",
    "    function takes list of bools partition_list, returns bitstring of 0-1\n",
    "    \"\"\"\n",
    "    outputstring = ''\n",
    "    for boolean in partition_list:\n",
    "        outputstring +=str(boolean)\n",
    "    return outputstring"
   ]
  },
  {
   "cell_type": "code",
   "execution_count": 663,
   "metadata": {},
   "outputs": [],
   "source": [
    "def brute_max_cut(adjacency_matrix, edge_weights):\n",
    "    \"\"\" brute force enumeration, returns float of optimal cut\"\"\"\n",
    "    \n",
    "    n = len(adjacency_matrix)\n",
    "    best_cost_brute = 0\n",
    "    \n",
    "    for b in range(2**n):\n",
    "        x = [int(t) for t in reversed(list(bin(b)[2:].zfill(n)))]\n",
    "        cost = cut_value(adjacency_matrix, edge_weights, concatenate(x))\n",
    "        if best_cost_brute < cost:\n",
    "            best_cost_brute = cost\n",
    "            xbest_brute = x \n",
    "            \n",
    "    return best_cost_brute"
   ]
  },
  {
   "cell_type": "markdown",
   "metadata": {},
   "source": [
    "## Exact Solution using ExactEigensolver\n",
    "\n",
    "Doesn't work for directed graphs!!!!"
   ]
  },
  {
   "cell_type": "code",
   "execution_count": 485,
   "metadata": {},
   "outputs": [],
   "source": [
    "#Making the Hamiltonian in its full form and getting the lowest eigenvalue and eigenvector\n",
    "def exact_max_cut(edge_weights):\n",
    "    qubitOp, offset = max_cut.get_max_cut_qubitops(edge_weights)\n",
    "    ee = ExactEigensolver(qubitOp, k=1)\n",
    "    result = ee.run()\n",
    "    x = max_cut.sample_most_likely(result['eigvecs'][0])\n",
    "    #print('solution:', max_cut.get_graph_solution(x))\n",
    "    return max_cut.max_cut_value(x, edge_weights)"
   ]
  },
  {
   "cell_type": "markdown",
   "metadata": {},
   "source": [
    "## Single Unit QAOA Circuit"
   ]
  },
  {
   "cell_type": "markdown",
   "metadata": {},
   "source": [
    "Here I develop a single unit of the QAOA circuit. The unit requires its own angles $\\gamma$ and $\\beta$, as well as the global adjacency matrix and edge weights."
   ]
  },
  {
   "cell_type": "markdown",
   "metadata": {},
   "source": [
    "### Driver Circuit"
   ]
  },
  {
   "cell_type": "code",
   "execution_count": 486,
   "metadata": {},
   "outputs": [],
   "source": [
    "def driver_circuit(qregister, beta):\n",
    "    \"\"\"\n",
    "    input: qregister QuantumRegister object, arbitrary # of qubits\n",
    "            beta, specific rotation angle in radians in [0, pi]\n",
    "    output: QuantumCircuit object, driver\n",
    "    \"\"\"\n",
    "    driver = QuantumCircuit(qregister)\n",
    "    driver.rx(beta, qregister)\n",
    "    return driver"
   ]
  },
  {
   "cell_type": "code",
   "execution_count": 487,
   "metadata": {},
   "outputs": [],
   "source": [
    "q = QuantumRegister(3)"
   ]
  },
  {
   "cell_type": "code",
   "execution_count": 488,
   "metadata": {},
   "outputs": [
    {
     "data": {
      "text/html": [
       "<pre style=\"word-wrap: normal;white-space: pre;line-height: 15px;\">            ┌────────────┐\n",
       "q1914_0: |0>┤ Rx(1.5708) ├\n",
       "            ├────────────┤\n",
       "q1914_1: |0>┤ Rx(1.5708) ├\n",
       "            ├────────────┤\n",
       "q1914_2: |0>┤ Rx(1.5708) ├\n",
       "            └────────────┘</pre>"
      ],
      "text/plain": [
       "<qiskit.visualization.text.TextDrawing at 0x11b343978>"
      ]
     },
     "execution_count": 488,
     "metadata": {},
     "output_type": "execute_result"
    }
   ],
   "source": [
    "driver_circuit(q, pi/2).draw()"
   ]
  },
  {
   "cell_type": "markdown",
   "metadata": {},
   "source": [
    "### Cost Circuit"
   ]
  },
  {
   "cell_type": "code",
   "execution_count": 489,
   "metadata": {},
   "outputs": [],
   "source": [
    "def cost_circuit(qregister, gamma, adjacency_matrix, edge_weights):\n",
    "    \"\"\"\n",
    "    input: - qregister QuantumRegister object, arbitrary # of qubits\n",
    "           - gamma, specific rotation angle in radians [0, 2pi]\n",
    "           - adjacency_matrix, list of lists where ij = 1 if qubits are connected by directed edge\n",
    "           - edge_weights, list of lists of values\n",
    "           \n",
    "    output: QuantumCircuit object, cost unitary\n",
    "    \"\"\"\n",
    "    \n",
    "    # initialize circuit, and qubit count\n",
    "    N = len(adjacency_matrix)\n",
    "    cost = QuantumCircuit(qregister)\n",
    "    cost.h(qregister)\n",
    "    \n",
    "    # construct unit cost circuit, from commutivity\n",
    "    for i in range(N):\n",
    "        for j in range(i+1, N):\n",
    "            if adjacency_matrix[i][j] == 1:\n",
    "                \n",
    "                # basic cost unit\n",
    "                cost.cx(qregister[i], qregister[j])\n",
    "                cost.rz(gamma * edge_weights[i][j], qregister[j])\n",
    "                cost.cx(qregister[i], qregister[j])\n",
    "                \n",
    "    return cost"
   ]
  },
  {
   "cell_type": "code",
   "execution_count": 490,
   "metadata": {},
   "outputs": [],
   "source": [
    "q = QuantumRegister(3)"
   ]
  },
  {
   "cell_type": "code",
   "execution_count": 491,
   "metadata": {},
   "outputs": [],
   "source": [
    "a = [[1, 1, 1], [1, 1, 1], [1, 1, 1]]\n",
    "w = np.zeros((3, 3))\n",
    "for i in range(len(w)):\n",
    "    for j in range(i+1, len(w)):\n",
    "        w[i][j] = random.random()\n",
    "        w[j][i] = w[i][j]"
   ]
  },
  {
   "cell_type": "code",
   "execution_count": 492,
   "metadata": {},
   "outputs": [
    {
     "data": {
      "text/html": [
       "<pre style=\"word-wrap: normal;white-space: pre;line-height: 15px;\">            ┌───┐                                                       »\n",
       "q1915_0: |0>┤ H ├──■───────────────────■────■───────────────────■───────»\n",
       "            ├───┤┌─┴─┐┌─────────────┐┌─┴─┐  │                   │       »\n",
       "q1915_1: |0>┤ H ├┤ X ├┤ Rz(0.28487) ├┤ X ├──┼───────────────────┼────■──»\n",
       "            ├───┤└───┘└─────────────┘└───┘┌─┴─┐┌─────────────┐┌─┴─┐┌─┴─┐»\n",
       "q1915_2: |0>┤ H ├─────────────────────────┤ X ├┤ Rz(0.21412) ├┤ X ├┤ X ├»\n",
       "            └───┘                         └───┘└─────────────┘└───┘└───┘»\n",
       "«                             \n",
       "«q1915_0: ────────────────────\n",
       "«                             \n",
       "«q1915_1: ─────────────────■──\n",
       "«         ┌─────────────┐┌─┴─┐\n",
       "«q1915_2: ┤ Rz(0.75443) ├┤ X ├\n",
       "«         └─────────────┘└───┘</pre>"
      ],
      "text/plain": [
       "<qiskit.visualization.text.TextDrawing at 0x11b976390>"
      ]
     },
     "execution_count": 492,
     "metadata": {},
     "output_type": "execute_result"
    }
   ],
   "source": [
    "cost_circuit(q, pi/4, a, w).draw()"
   ]
  },
  {
   "cell_type": "markdown",
   "metadata": {},
   "source": [
    "### Single unit"
   ]
  },
  {
   "cell_type": "code",
   "execution_count": 493,
   "metadata": {},
   "outputs": [],
   "source": [
    "def unit_circuit(qregister, adjacency_matrix, edge_weights, gamma, beta):\n",
    "    return cost_circuit(qregister, gamma, adjacency_matrix, edge_weights) + driver_circuit(qregister, beta)"
   ]
  },
  {
   "cell_type": "code",
   "execution_count": 494,
   "metadata": {},
   "outputs": [],
   "source": [
    "unit_circuit(q, a, w, pi/8, pi/4).draw();"
   ]
  },
  {
   "cell_type": "markdown",
   "metadata": {},
   "source": [
    "## QAOA Circuit"
   ]
  },
  {
   "cell_type": "code",
   "execution_count": 495,
   "metadata": {},
   "outputs": [],
   "source": [
    "def QAOA(adjacency_matrix, edge_weights, gamma_list, beta_list):\n",
    "    \"\"\"\n",
    "    input: - adjacency_matrix, adjacency_matrix, list of lists where ij = 1 if qubits are connected by directed edge\n",
    "           - edge_weights, list of lists of edge weights\n",
    "           - gamma_list, list of cost angles\n",
    "           - beta_list, list of beta angles\n",
    "           \n",
    "    output: QuantumCircuit object, result of appending multiple circuits for various different angles\n",
    "            length of angles lists determines depth of circuit in unit_circuits\n",
    "    \"\"\"\n",
    "    \n",
    "    # initialize register and circuit\n",
    "    N = len(adjacency_matrix) \n",
    "    qregister = QuantumRegister(N)\n",
    "    cregister = ClassicalRegister(N)\n",
    "    circuit = QuantumCircuit(qregister, cregister)\n",
    "    \n",
    "    # Quantum circuit construction\n",
    "    for gamma, beta in zip(gamma_list, beta_list):\n",
    "        circuit += unit_circuit(qregister, adjacency_matrix, edge_weights, gamma, beta)\n",
    "       \n",
    "    # partition\n",
    "    circuit.measure(qregister, cregister)\n",
    "        \n",
    "    return circuit"
   ]
  },
  {
   "cell_type": "code",
   "execution_count": 496,
   "metadata": {},
   "outputs": [],
   "source": [
    "QAOA(a, w, [pi/4], [pi/6]).draw();"
   ]
  },
  {
   "cell_type": "markdown",
   "metadata": {},
   "source": [
    "## Calling the QC"
   ]
  },
  {
   "cell_type": "markdown",
   "metadata": {},
   "source": [
    "### Physical Computer"
   ]
  },
  {
   "cell_type": "code",
   "execution_count": 497,
   "metadata": {},
   "outputs": [
    {
     "name": "stderr",
     "output_type": "stream",
     "text": [
      "/Library/Frameworks/Python.framework/Versions/3.7/lib/python3.7/site-packages/qiskit/providers/ibmq/ibmqprovider.py:272: UserWarning: Credentials are already in use.\n",
      "  warnings.warn('Credentials are already in use.')\n"
     ]
    }
   ],
   "source": [
    "IBMQ.load_accounts(hub=None)"
   ]
  },
  {
   "cell_type": "code",
   "execution_count": 498,
   "metadata": {},
   "outputs": [
    {
     "name": "stdout",
     "output_type": "stream",
     "text": [
      "Available backends:\n"
     ]
    },
    {
     "data": {
      "text/plain": [
       "[<IBMQBackend('ibmqx4') from IBMQ()>,\n",
       " <IBMQBackend('ibmqx2') from IBMQ()>,\n",
       " <IBMQBackend('ibmq_16_melbourne') from IBMQ()>,\n",
       " <IBMQSimulator('ibmq_qasm_simulator') from IBMQ()>]"
      ]
     },
     "execution_count": 498,
     "metadata": {},
     "output_type": "execute_result"
    }
   ],
   "source": [
    "print(\"Available backends:\")\n",
    "IBMQ.backends()"
   ]
  },
  {
   "cell_type": "code",
   "execution_count": 499,
   "metadata": {},
   "outputs": [
    {
     "name": "stdout",
     "output_type": "stream",
     "text": [
      "The best backend is ibmqx2\n"
     ]
    }
   ],
   "source": [
    "from qiskit.providers.ibmq import least_busy\n",
    "\n",
    "large_enough_devices = IBMQ.backends(filters=lambda x: x.configuration().n_qubits < 10 and\n",
    "                                                       not x.configuration().simulator)\n",
    "backend = least_busy(large_enough_devices)\n",
    "print(\"The best backend is \" + backend.name())"
   ]
  },
  {
   "cell_type": "markdown",
   "metadata": {},
   "source": [
    "### Simulation Backend"
   ]
  },
  {
   "cell_type": "code",
   "execution_count": 500,
   "metadata": {},
   "outputs": [],
   "source": [
    "backend = BasicAer.get_backend('qasm_simulator')"
   ]
  },
  {
   "cell_type": "markdown",
   "metadata": {},
   "source": [
    "## Bayesian Optimization"
   ]
  },
  {
   "cell_type": "markdown",
   "metadata": {},
   "source": [
    "Here I use the Bayesian optimization package to optimize over the choice of gamma and beta. The depth, in the number of driving cycles p = 1, is assumed constant."
   ]
  },
  {
   "cell_type": "code",
   "execution_count": 654,
   "metadata": {},
   "outputs": [],
   "source": [
    "def optimize(adjacency_matrix, edge_weights, verbose = 2, Niterations = 10, initialpoints = 5, st = 100):\n",
    "    \"\"\"\n",
    "    Inputs: - adjacency_matrix, list of lists \n",
    "            - edge_weights, list of lists of floats\n",
    "            - verbose, = 2 prints everything, = 1 prints only when a maximum is observed, = 0 is silent\n",
    "            - initialpoints, integer number of search points (see BayesianOptimization package)\n",
    "            - Niterations, number of optimization iterations/updates\n",
    "            \n",
    "    Output: - BayesianOptimization object result of applying method on QAOA quantum circuit\n",
    "    \"\"\"\n",
    "    \n",
    "    #########################################################################\n",
    "    def optimizing_function(gamma, beta):\n",
    "        \"\"\"\n",
    "        Optimizing function on the rotation angles\n",
    "        \n",
    "        Input: - gamma in [0, 2pi]\n",
    "               - beta in [0, pi]\n",
    "               see circuit functions for description of gates\n",
    "               \n",
    "        Output: Cut value resulting from running quantum circuit\n",
    "        \"\"\"\n",
    "    \n",
    "        circuit = QAOA(adjacency_matrix, edge_weights, [gamma], [beta])\n",
    "        job = execute(circuit, backend, shots = st)\n",
    "        result = job.result()\n",
    "        counts = result.get_counts(circuit)\n",
    "    \n",
    "        max_cut = 0\n",
    "        maxp = None\n",
    "        \n",
    "        for partition in counts:\n",
    "            current_cut = cut_value(adjacency_matrix, edge_weights, partition)\n",
    "            if current_cut > max_cut or not maxp:\n",
    "                maxp = partition\n",
    "                max_cut = current_cut\n",
    "                                                    \n",
    "        return max_cut\n",
    "    \n",
    "    ############################################################################\n",
    "    # Call optimization method on optimizing function\n",
    "    \n",
    "    pbounds = {'gamma': (0, 2*pi), 'beta': (0,  pi)}\n",
    "        \n",
    "    optimizer = BayesianOptimization(\n",
    "        f=optimizing_function,\n",
    "        pbounds=pbounds,\n",
    "        verbose = verbose\n",
    "    )\n",
    "\n",
    "    #start = time.time()\n",
    "\n",
    "    optimizer.maximize(\n",
    "        init_points = initialpoints,\n",
    "        n_iter = Niterations,\n",
    "    )\n",
    "\n",
    "    #end = time.time()\n",
    "    #print('Bayesian Optimization Runtime was: ', end - start)\n",
    "    \n",
    "    return optimizer"
   ]
  },
  {
   "cell_type": "markdown",
   "metadata": {},
   "source": [
    "### Test"
   ]
  },
  {
   "cell_type": "code",
   "execution_count": 457,
   "metadata": {},
   "outputs": [],
   "source": [
    "# generate random directed graph\n",
    "N = 10\n",
    "adjacency_matrix = np.zeros((N, N))\n",
    "edge_weights = np.zeros((N, N))\n",
    "for i in range(N):\n",
    "    for j in range(i+1, N):\n",
    "        if random.random() < .7:\n",
    "            adjacency_matrix[i][j] = 1\n",
    "            adjacency_matrix[j][i] = 1\n",
    "            edge_weights[i][j] = random.random()\n",
    "            edge_weights[j][i] = edge_weights[i][j]"
   ]
  },
  {
   "cell_type": "code",
   "execution_count": 458,
   "metadata": {},
   "outputs": [
    {
     "name": "stdout",
     "output_type": "stream",
     "text": [
      "|   iter    |  target   |   beta    |   gamma   |\n",
      "-------------------------------------------------\n",
      "| \u001b[0m 1       \u001b[0m | \u001b[0m 9.97    \u001b[0m | \u001b[0m 0.7326  \u001b[0m | \u001b[0m 1.25    \u001b[0m |\n",
      "| \u001b[0m 2       \u001b[0m | \u001b[0m 9.143   \u001b[0m | \u001b[0m 2.705   \u001b[0m | \u001b[0m 5.635   \u001b[0m |\n",
      "| \u001b[0m 3       \u001b[0m | \u001b[0m 9.026   \u001b[0m | \u001b[0m 2.986   \u001b[0m | \u001b[0m 1.879   \u001b[0m |\n",
      "| \u001b[0m 4       \u001b[0m | \u001b[0m 9.81    \u001b[0m | \u001b[0m 2.5     \u001b[0m | \u001b[0m 1.186   \u001b[0m |\n",
      "| \u001b[0m 5       \u001b[0m | \u001b[0m 9.956   \u001b[0m | \u001b[0m 0.0     \u001b[0m | \u001b[0m 4.04    \u001b[0m |\n",
      "| \u001b[0m 6       \u001b[0m | \u001b[0m 9.697   \u001b[0m | \u001b[0m 0.0     \u001b[0m | \u001b[0m 6.283   \u001b[0m |\n",
      "| \u001b[95m 7       \u001b[0m | \u001b[95m 10.31   \u001b[0m | \u001b[95m 1.517   \u001b[0m | \u001b[95m 0.0     \u001b[0m |\n",
      "| \u001b[0m 8       \u001b[0m | \u001b[0m 10.31   \u001b[0m | \u001b[0m 3.142   \u001b[0m | \u001b[0m 0.0     \u001b[0m |\n",
      "| \u001b[0m 9       \u001b[0m | \u001b[0m 9.896   \u001b[0m | \u001b[0m 0.0     \u001b[0m | \u001b[0m 0.0     \u001b[0m |\n",
      "| \u001b[0m 10      \u001b[0m | \u001b[0m 9.896   \u001b[0m | \u001b[0m 2.366   \u001b[0m | \u001b[0m 0.0     \u001b[0m |\n",
      "| \u001b[0m 11      \u001b[0m | \u001b[0m 9.201   \u001b[0m | \u001b[0m 0.0     \u001b[0m | \u001b[0m 2.581   \u001b[0m |\n",
      "| \u001b[0m 12      \u001b[0m | \u001b[0m 9.201   \u001b[0m | \u001b[0m 1.435   \u001b[0m | \u001b[0m 4.174   \u001b[0m |\n",
      "| \u001b[95m 13      \u001b[0m | \u001b[95m 10.39   \u001b[0m | \u001b[95m 0.0     \u001b[0m | \u001b[95m 5.093   \u001b[0m |\n",
      "=================================================\n"
     ]
    }
   ],
   "source": [
    "optimizer = optimize(adjacency_matrix, edge_weights)"
   ]
  },
  {
   "cell_type": "code",
   "execution_count": 459,
   "metadata": {},
   "outputs": [
    {
     "data": {
      "text/plain": [
       "10.391568560377422"
      ]
     },
     "execution_count": 459,
     "metadata": {},
     "output_type": "execute_result"
    }
   ],
   "source": [
    "exact_max_cut(edge_weights)"
   ]
  },
  {
   "cell_type": "code",
   "execution_count": 460,
   "metadata": {},
   "outputs": [],
   "source": [
    "targets = [res['target'] for res in optimizer.res]"
   ]
  },
  {
   "cell_type": "code",
   "execution_count": 461,
   "metadata": {
    "scrolled": true
   },
   "outputs": [
    {
     "name": "stderr",
     "output_type": "stream",
     "text": [
      "/Library/Frameworks/Python.framework/Versions/3.7/lib/python3.7/site-packages/matplotlib/figure.py:445: UserWarning: Matplotlib is currently using module://ipykernel.pylab.backend_inline, which is a non-GUI backend, so cannot show the figure.\n",
      "  % get_backend())\n"
     ]
    },
    {
     "data": {
      "image/png": "[encoded data removed]",
      "text/plain": [
       "<Figure size 432x288 with 1 Axes>"
      ]
     },
     "metadata": {
      "needs_background": "light"
     },
     "output_type": "display_data"
    }
   ],
   "source": [
    "multiple_convergence_plots([targets,cumulative_objective(targets)])"
   ]
  },
  {
   "cell_type": "markdown",
   "metadata": {},
   "source": [
    "## Testing Simulation"
   ]
  },
  {
   "cell_type": "code",
   "execution_count": null,
   "metadata": {},
   "outputs": [],
   "source": [
    "def one_pass(N, p = 0.7, Niterations = 10, verbose = 2, shots = 100):\n",
    "    \"\"\"\n",
    "    One run of the optimizer on random input graph, \n",
    "    returns cumulative list of objective values during optimization\n",
    "    \n",
    "    inputs: N, integer of number of nodes in graph\n",
    "            p, float of probability of existence of edge\n",
    "            verbose, = 2 prints everything, = 1 prints only when a maximum is observed, = 0 is silent\n",
    "    \n",
    "    \n",
    "    \"\"\"\n",
    "    # generate random directed graph\n",
    "    adjacency_matrix = np.zeros((N, N))\n",
    "    edge_weights = np.zeros((N, N))\n",
    "    allzero = True\n",
    "    for i in range(N):\n",
    "        for j in range(i+1, N):\n",
    "            if random.random() < p:\n",
    "                allzero = False\n",
    "                adjacency_matrix[i][j] = 1\n",
    "                adjacency_matrix[j][i] = 1\n",
    "                edge_weights[i][j] = random.random()\n",
    "                edge_weights[j][i] = edge_weights[i][j]\n",
    "                \n",
    "    if allzero:\n",
    "        return None\n",
    "                    \n",
    "    # Normalize edge cost for max_cut\n",
    "    exact_cut = brute_max_cut(edge_weights)\n",
    "    for i in range(N):\n",
    "        for j in range(N):\n",
    "            edge_weights[i][j] = edge_weights[i][j]/exact_cut\n",
    "    # run optimizer      \n",
    "    optimizer = optimize(adjacency_matrix, edge_weights, verbose, Niterations, st = shots)\n",
    "    \n",
    "    return cumulative_objective([res['target'] for res in optimizer.res])"
   ]
  },
  {
   "cell_type": "code",
   "execution_count": null,
   "metadata": {},
   "outputs": [],
   "source": [
    "convergence_plot(one_pass(5, Niterations = 5))"
   ]
  },
  {
   "cell_type": "code",
   "execution_count": 648,
   "metadata": {},
   "outputs": [],
   "source": [
    "def multiple_pass(N, n_tests, n_iters=10, verbose = 0,  shots = 40):\n",
    "    \n",
    "    objective_listoflists = []\n",
    "    avg = 0\n",
    "    \n",
    "    for i in range(n_tests):\n",
    "        print(\"Starting \"+ str(i+1) + \"th test\")\n",
    "        results = one_pass(N, .7, n_iters, verbose, shots)\n",
    "            \n",
    "        if results:\n",
    "            objective_listoflists.append(results)\n",
    "            avg += objective_listoflists[-1][-1]/n_tests\n",
    "        else:\n",
    "            avg += 1/n_tests\n",
    "                \n",
    "    multiple_convergence_plots(objective_listoflists)\n",
    "    print(\"The average accuracy was: \", avg)"
   ]
  },
  {
   "cell_type": "code",
   "execution_count": 539,
   "metadata": {},
   "outputs": [
    {
     "name": "stdout",
     "output_type": "stream",
     "text": [
      "Starting 1th test\n",
      "Starting 2th test\n",
      "Starting 3th test\n",
      "Starting 4th test\n",
      "Starting 5th test\n",
      "Starting 6th test\n",
      "Starting 7th test\n",
      "Starting 8th test\n",
      "Starting 9th test\n",
      "Starting 10th test\n",
      "The average accuracy was:  0.9870686306271736\n"
     ]
    },
    {
     "name": "stderr",
     "output_type": "stream",
     "text": [
      "/Library/Frameworks/Python.framework/Versions/3.7/lib/python3.7/site-packages/matplotlib/figure.py:445: UserWarning: Matplotlib is currently using module://ipykernel.pylab.backend_inline, which is a non-GUI backend, so cannot show the figure.\n",
      "  % get_backend())\n"
     ]
    },
    {
     "data": {
      "image/png": "[encoded data removed]",
      "text/plain": [
       "<Figure size 432x288 with 1 Axes>"
      ]
     },
     "metadata": {
      "needs_background": "light"
     },
     "output_type": "display_data"
    }
   ],
   "source": [
    "multiple_pass(10, 10)"
   ]
  },
  {
   "cell_type": "markdown",
   "metadata": {},
   "source": [
    "## Statistics and Plot functions"
   ]
  },
  {
   "cell_type": "code",
   "execution_count": 394,
   "metadata": {},
   "outputs": [],
   "source": [
    "def plot_convergence(objective_list):\n",
    "    n_iter = len(objective_list)\n",
    "    fig, ax = plt.subplots()\n",
    "    ax.plot(range(n_iter), objective_list)\n",
    "    ax.set(xlabel = \"Iteration Number\", ylabel = \"Cut-Value\")\n",
    "    fig.show()"
   ]
  },
  {
   "cell_type": "code",
   "execution_count": 395,
   "metadata": {},
   "outputs": [],
   "source": [
    "def multiple_convergence_plots(list_of_objectives):\n",
    "    ncurves = len(list_of_objectives)\n",
    "    n_iter = len(list_of_objectives[0])\n",
    "    fig, ax = plt.subplots()\n",
    "    for i in range(ncurves):\n",
    "        ax.plot(range(n_iter), list_of_objectives[i])\n",
    "    ax.set(xlabel = \"Iteration Number\", ylabel = \"Cut-Value\")\n",
    "    fig.show()"
   ]
  },
  {
   "cell_type": "code",
   "execution_count": 396,
   "metadata": {},
   "outputs": [],
   "source": [
    "def cumulative_objective(objective_list):\n",
    "    #cumulative maximum\n",
    "    result = [objective_list[0]]\n",
    "    for i in range(1,len(objective_list)):\n",
    "        if objective_list[i] > result[i-1]:\n",
    "            result.append(objective_list[i])\n",
    "        else:\n",
    "            result.append(result[i-1])\n",
    "    return result"
   ]
  },
  {
   "cell_type": "markdown",
   "metadata": {},
   "source": [
    "## Quantum Computer Testing"
   ]
  },
  {
   "cell_type": "code",
   "execution_count": 665,
   "metadata": {},
   "outputs": [],
   "source": [
    "def qcpass(adjacency_matrix, niters, shots, verbose):\n",
    "    \n",
    "    N = len(adjacency_matrix)\n",
    "    \n",
    "    # generate random weights\n",
    "    edge_weights = np.zeros((N, N))\n",
    "    for i in range(N):\n",
    "        for j in range(N):\n",
    "            if adjacency_matrix[i][j]==1 and i!= j:\n",
    "                edge_weights[i, j] = random.random()   \n",
    "                    \n",
    "    \n",
    "    # Normalize edge cost for max_cut\n",
    "    exact_cut = brute_max_cut(adjacency_matrix, edge_weights)\n",
    "    for i in range(N):\n",
    "        for j in range(N):\n",
    "            edge_weights[i][j] = edge_weights[i][j]/exact_cut\n",
    "                \n",
    "    # run optimizer      \n",
    "    optimizer = optimize(ibm_matrix, edge_weights, verbose, niters, st=shots)\n",
    "    \n",
    "    return cumulative_objective([res['target'] for res in optimizer.res])"
   ]
  },
  {
   "cell_type": "code",
   "execution_count": 652,
   "metadata": {},
   "outputs": [],
   "source": [
    "def qcmultiple_pass(adjacency_matrix, n_tests, n_iters=10, verbose = 0, shots = 40):\n",
    "    \n",
    "    objective_listoflists = []\n",
    "    avg = 0\n",
    "    \n",
    "    for i in range(n_tests):\n",
    "        print(\"Starting \"+ str(i+1) + \"th test\")\n",
    "        results = qcpass(adjacency_matrix, n_iters, shots, verbose)\n",
    "            \n",
    "        if results:\n",
    "            objective_listoflists.append(results)\n",
    "            avg += objective_listoflists[-1][-1]/n_tests\n",
    "        else:\n",
    "            avg += 1/n_tests\n",
    "                \n",
    "    multiple_convergence_plots(objective_listoflists)\n",
    "    print(\"The average accuracy was: \", avg)"
   ]
  },
  {
   "cell_type": "markdown",
   "metadata": {},
   "source": [
    "## The Quantum Computer"
   ]
  },
  {
   "cell_type": "code",
   "execution_count": 546,
   "metadata": {},
   "outputs": [],
   "source": [
    "from qiskit import IBMQ\n",
    "from qiskit.tools.jupyter import *"
   ]
  },
  {
   "cell_type": "code",
   "execution_count": 606,
   "metadata": {},
   "outputs": [],
   "source": [
    "token = '85c803accc9dd892e60ff645952740918526cc56a605b9c880ff40cac7a731a7d5b25c1804dbf97fecf5252de8388cdbad5305a80cae9b5bdbb3f30a5609c2f2'\n",
    "url = 'https://api-qcon.quantum-computing.ibm.com/api/Hubs/ibm-q/Groups/open/Projects/main'\n",
    "\n",
    "IBMQ.delete_accounts()\n",
    "IBMQ.save_account(token, url)\n",
    "IBMQ.load_accounts()"
   ]
  },
  {
   "cell_type": "code",
   "execution_count": 608,
   "metadata": {},
   "outputs": [],
   "source": [
    "backend = IBMQ.backends()[-1]"
   ]
  },
  {
   "cell_type": "code",
   "execution_count": 609,
   "metadata": {},
   "outputs": [],
   "source": [
    "config = backend.configuration()"
   ]
  },
  {
   "cell_type": "code",
   "execution_count": 610,
   "metadata": {},
   "outputs": [
    {
     "data": {
      "text/plain": [
       "'ibmq_16_melbourne'"
      ]
     },
     "execution_count": 610,
     "metadata": {},
     "output_type": "execute_result"
    }
   ],
   "source": [
    "config.backend_name"
   ]
  },
  {
   "cell_type": "code",
   "execution_count": 611,
   "metadata": {},
   "outputs": [
    {
     "data": {
      "text/plain": [
       "14"
      ]
     },
     "execution_count": 611,
     "metadata": {},
     "output_type": "execute_result"
    }
   ],
   "source": [
    "config.n_qubits\n"
   ]
  },
  {
   "cell_type": "markdown",
   "metadata": {},
   "source": [
    "## IBMQ Layout"
   ]
  },
  {
   "cell_type": "markdown",
   "metadata": {},
   "source": [
    "The experiment is optimized over the particular layout of the processor."
   ]
  },
  {
   "cell_type": "code",
   "execution_count": 612,
   "metadata": {},
   "outputs": [
    {
     "data": {
      "text/plain": [
       "[[1, 0],\n",
       " [1, 2],\n",
       " [2, 3],\n",
       " [4, 3],\n",
       " [4, 10],\n",
       " [5, 4],\n",
       " [5, 6],\n",
       " [5, 9],\n",
       " [6, 8],\n",
       " [7, 8],\n",
       " [9, 8],\n",
       " [9, 10],\n",
       " [11, 3],\n",
       " [11, 10],\n",
       " [11, 12],\n",
       " [12, 2],\n",
       " [13, 1],\n",
       " [13, 12]]"
      ]
     },
     "execution_count": 612,
     "metadata": {},
     "output_type": "execute_result"
    }
   ],
   "source": [
    "config.coupling_map"
   ]
  },
  {
   "cell_type": "code",
   "execution_count": 630,
   "metadata": {},
   "outputs": [],
   "source": [
    "## processor adjacency matrix\n",
    "ibm_matrix = np.zeros((config.n_qubits, config.n_qubits))\n",
    "for i in range(len(config.coupling_map)):\n",
    "    u,v = config.coupling_map[i]\n",
    "    ibm_matrix[u, v] = 1"
   ]
  },
  {
   "cell_type": "code",
   "execution_count": 613,
   "metadata": {},
   "outputs": [
    {
     "data": {
      "application/vnd.jupyter.widget-view+json": {
       "model_id": "d0585c4b041e42ebb0709c8e549d28f8",
       "version_major": 2,
       "version_minor": 0
      },
      "text/plain": [
       "VBox(children=(HTML(value=\"<h1 style='color:#ffffff;background-color:#000000;padding-top: 1%;padding-bottom: 1…"
      ]
     },
     "metadata": {},
     "output_type": "display_data"
    }
   ],
   "source": [
    "%qiskit_backend_monitor backend"
   ]
  },
  {
   "cell_type": "markdown",
   "metadata": {},
   "source": [
    "### Test 1"
   ]
  },
  {
   "cell_type": "code",
   "execution_count": 640,
   "metadata": {},
   "outputs": [],
   "source": [
    "edge_weights1 = np.zeros((14, 14))\n",
    "for i in range(14):\n",
    "    for j in range(i+1, 14):\n",
    "        if ibm_matrix[i][j]==1:\n",
    "            edge_weights1[i, j] = random.random()  "
   ]
  },
  {
   "cell_type": "code",
   "execution_count": 642,
   "metadata": {},
   "outputs": [
    {
     "name": "stdout",
     "output_type": "stream",
     "text": [
      "|   iter    |  target   |   beta    |   gamma   |\n",
      "-------------------------------------------------\n",
      "JobStatus.INITIALIZING\n",
      "00010000110111\n",
      "| \u001b[0m 1       \u001b[0m | \u001b[0m 2.245   \u001b[0m | \u001b[0m 2.734   \u001b[0m | \u001b[0m 2.411   \u001b[0m |\n",
      "JobStatus.INITIALIZING\n",
      "10011000100010\n",
      "| \u001b[0m 2       \u001b[0m | \u001b[0m 2.166   \u001b[0m | \u001b[0m 1.566   \u001b[0m | \u001b[0m 3.263   \u001b[0m |\n",
      "JobStatus.INITIALIZING\n",
      "11011000100100\n",
      "| \u001b[0m 3       \u001b[0m | \u001b[0m 2.153   \u001b[0m | \u001b[0m 0.9952  \u001b[0m | \u001b[0m 2.689   \u001b[0m |\n",
      "JobStatus.INITIALIZING\n",
      "11010000101101\n",
      "| \u001b[95m 4       \u001b[0m | \u001b[95m 2.447   \u001b[0m | \u001b[95m 3.142   \u001b[0m | \u001b[95m 0.0     \u001b[0m |\n",
      "JobStatus.INITIALIZING\n",
      "01010000101110\n",
      "| \u001b[0m 5       \u001b[0m | \u001b[0m 2.447   \u001b[0m | \u001b[0m 3.142   \u001b[0m | \u001b[0m 6.283   \u001b[0m |\n",
      "JobStatus.INITIALIZING\n",
      "10010010101111\n",
      "| \u001b[0m 6       \u001b[0m | \u001b[0m 2.382   \u001b[0m | \u001b[0m 0.0     \u001b[0m | \u001b[0m 6.283   \u001b[0m |\n",
      "JobStatus.INITIALIZING\n",
      "10010000110000\n",
      "| \u001b[0m 7       \u001b[0m | \u001b[0m 2.245   \u001b[0m | \u001b[0m 2.22e-16\u001b[0m | \u001b[0m 0.0     \u001b[0m |\n",
      "JobStatus.INITIALIZING\n",
      "00011010110010\n",
      "| \u001b[0m 8       \u001b[0m | \u001b[0m 2.193   \u001b[0m | \u001b[0m 2.186   \u001b[0m | \u001b[0m 6.283   \u001b[0m |\n",
      "JobStatus.INITIALIZING\n",
      "10010000110111\n",
      "| \u001b[0m 9       \u001b[0m | \u001b[0m 2.245   \u001b[0m | \u001b[0m 3.142   \u001b[0m | \u001b[0m 4.709   \u001b[0m |\n",
      "JobStatus.INITIALIZING\n",
      "00010010111000\n",
      "| \u001b[0m 10      \u001b[0m | \u001b[0m 2.378   \u001b[0m | \u001b[0m 0.0     \u001b[0m | \u001b[0m 4.551   \u001b[0m |\n",
      "JobStatus.INITIALIZING\n",
      "00010010111000\n",
      "| \u001b[0m 11      \u001b[0m | \u001b[0m 2.378   \u001b[0m | \u001b[0m 1.885   \u001b[0m | \u001b[0m 0.0     \u001b[0m |\n",
      "JobStatus.INITIALIZING\n",
      "00110000111010\n",
      "| \u001b[0m 12      \u001b[0m | \u001b[0m 1.919   \u001b[0m | \u001b[0m 3.142   \u001b[0m | \u001b[0m 0.7943  \u001b[0m |\n",
      "JobStatus.INITIALIZING\n",
      "00011000101001\n",
      "| \u001b[0m 13      \u001b[0m | \u001b[0m 2.249   \u001b[0m | \u001b[0m 0.0     \u001b[0m | \u001b[0m 1.631   \u001b[0m |\n",
      "JobStatus.INITIALIZING\n",
      "11010100101110\n",
      "| \u001b[0m 14      \u001b[0m | \u001b[0m 2.447   \u001b[0m | \u001b[0m 0.0     \u001b[0m | \u001b[0m 3.246   \u001b[0m |\n",
      "JobStatus.INITIALIZING\n",
      "00010000111101\n",
      "| \u001b[0m 15      \u001b[0m | \u001b[0m 2.442   \u001b[0m | \u001b[0m 3.142   \u001b[0m | \u001b[0m 3.349   \u001b[0m |\n",
      "JobStatus.INITIALIZING\n",
      "00010010100001\n",
      "| \u001b[0m 16      \u001b[0m | \u001b[0m 2.088   \u001b[0m | \u001b[0m 0.0     \u001b[0m | \u001b[0m 5.521   \u001b[0m |\n",
      "JobStatus.INITIALIZING\n",
      "10010000111010\n",
      "| \u001b[95m 17      \u001b[0m | \u001b[95m 2.456   \u001b[0m | \u001b[95m 0.5259  \u001b[0m | \u001b[95m 3.984   \u001b[0m |\n",
      "JobStatus.INITIALIZING\n",
      "11011100101001\n",
      "| \u001b[0m 18      \u001b[0m | \u001b[0m 2.249   \u001b[0m | \u001b[0m 0.8249  \u001b[0m | \u001b[0m 6.283   \u001b[0m |\n",
      "JobStatus.INITIALIZING\n",
      "11011000100001\n",
      "| \u001b[0m 19      \u001b[0m | \u001b[0m 2.153   \u001b[0m | \u001b[0m 0.0     \u001b[0m | \u001b[0m 3.864   \u001b[0m |\n",
      "JobStatus.INITIALIZING\n",
      "00011100101000\n",
      "| \u001b[0m 20      \u001b[0m | \u001b[0m 2.249   \u001b[0m | \u001b[0m 1.534   \u001b[0m | \u001b[0m 4.78    \u001b[0m |\n",
      "JobStatus.INITIALIZING\n",
      "10111100101001\n",
      "| \u001b[0m 21      \u001b[0m | \u001b[0m 1.712   \u001b[0m | \u001b[0m 1.075   \u001b[0m | \u001b[0m 0.8439  \u001b[0m |\n",
      "JobStatus.INITIALIZING\n",
      "10010110101010\n",
      "| \u001b[0m 22      \u001b[0m | \u001b[0m 1.872   \u001b[0m | \u001b[0m 0.0     \u001b[0m | \u001b[0m 2.495   \u001b[0m |\n",
      "JobStatus.INITIALIZING\n",
      "01011010100110\n",
      "| \u001b[0m 23      \u001b[0m | \u001b[0m 2.088   \u001b[0m | \u001b[0m 2.425   \u001b[0m | \u001b[0m 4.013   \u001b[0m |\n",
      "=================================================\n"
     ]
    }
   ],
   "source": [
    "optimizer = optimize(ibm_matrix, edge_weights1, 2, 20, 3, 40)"
   ]
  },
  {
   "cell_type": "code",
   "execution_count": 643,
   "metadata": {},
   "outputs": [
    {
     "name": "stderr",
     "output_type": "stream",
     "text": [
      "/Library/Frameworks/Python.framework/Versions/3.7/lib/python3.7/site-packages/matplotlib/figure.py:445: UserWarning: Matplotlib is currently using module://ipykernel.pylab.backend_inline, which is a non-GUI backend, so cannot show the figure.\n",
      "  % get_backend())\n"
     ]
    },
    {
     "data": {
      "image/png": "[encoded data removed]",
      "text/plain": [
       "<Figure size 432x288 with 1 Axes>"
      ]
     },
     "metadata": {
      "needs_background": "light"
     },
     "output_type": "display_data"
    }
   ],
   "source": [
    "targets = [res['target'] for res in optimizer.res]\n",
    "multiple_convergence_plots([targets,cumulative_objective(targets)])"
   ]
  },
  {
   "cell_type": "markdown",
   "metadata": {},
   "source": [
    "### Test 2"
   ]
  },
  {
   "cell_type": "code",
   "execution_count": 626,
   "metadata": {},
   "outputs": [
    {
     "name": "stdout",
     "output_type": "stream",
     "text": [
      "|   iter    |  target   |   beta    |   gamma   |\n",
      "-------------------------------------------------\n",
      "JobStatus.INITIALIZING\n",
      "10011000111101\n",
      "| \u001b[0m 1       \u001b[0m | \u001b[0m 2.59    \u001b[0m | \u001b[0m 3.117   \u001b[0m | \u001b[0m 4.034   \u001b[0m |\n",
      "JobStatus.INITIALIZING\n",
      "11011010110101\n",
      "| \u001b[95m 2       \u001b[0m | \u001b[95m 2.623   \u001b[0m | \u001b[95m 0.9096  \u001b[0m | \u001b[95m 1.525   \u001b[0m |\n",
      "JobStatus.INITIALIZING\n",
      "10111000101010\n",
      "| \u001b[95m 3       \u001b[0m | \u001b[95m 2.702   \u001b[0m | \u001b[95m 0.5836  \u001b[0m | \u001b[95m 2.291   \u001b[0m |\n",
      "JobStatus.INITIALIZING\n",
      "01100100101011\n",
      "| \u001b[95m 4       \u001b[0m | \u001b[95m 2.744   \u001b[0m | \u001b[95m 1.502   \u001b[0m | \u001b[95m 1.247   \u001b[0m |\n",
      "JobStatus.INITIALIZING\n",
      "00101000110010\n",
      "| \u001b[95m 5       \u001b[0m | \u001b[95m 2.961   \u001b[0m | \u001b[95m 0.5666  \u001b[0m | \u001b[95m 3.428   \u001b[0m |\n",
      "JobStatus.INITIALIZING\n",
      "00100100101101\n",
      "| \u001b[95m 6       \u001b[0m | \u001b[95m 3.155   \u001b[0m | \u001b[95m 0.0     \u001b[0m | \u001b[95m 6.283   \u001b[0m |\n",
      "JobStatus.INITIALIZING\n",
      "00100001011011\n",
      "| \u001b[0m 7       \u001b[0m | \u001b[0m 2.49    \u001b[0m | \u001b[0m 3.142   \u001b[0m | \u001b[0m 0.0     \u001b[0m |\n",
      "JobStatus.INITIALIZING\n",
      "01010000101011\n",
      "| \u001b[95m 8       \u001b[0m | \u001b[95m 3.27    \u001b[0m | \u001b[95m 2.252   \u001b[0m | \u001b[95m 6.283   \u001b[0m |\n",
      "JobStatus.INITIALIZING\n",
      "11010011101111\n",
      "| \u001b[0m 9       \u001b[0m | \u001b[0m 2.116   \u001b[0m | \u001b[0m 3.142   \u001b[0m | \u001b[0m 6.283   \u001b[0m |\n",
      "JobStatus.INITIALIZING\n",
      "00110000101110\n",
      "| \u001b[0m 10      \u001b[0m | \u001b[0m 3.155   \u001b[0m | \u001b[0m 1.26    \u001b[0m | \u001b[0m 5.281   \u001b[0m |\n",
      "=================================================\n"
     ]
    },
    {
     "data": {
      "text/plain": [
       "[2.5902169752952853,\n",
       " 2.6234816489525414,\n",
       " 2.7021897420159684,\n",
       " 2.74446873005213,\n",
       " 2.960513374241142,\n",
       " 3.154506500973039,\n",
       " 3.154506500973039,\n",
       " 3.2702757618713942,\n",
       " 3.2702757618713942,\n",
       " 3.2702757618713942]"
      ]
     },
     "execution_count": 626,
     "metadata": {},
     "output_type": "execute_result"
    }
   ],
   "source": [
    "qcpass(adjacency_matrix, 5, 20, 2)"
   ]
  },
  {
   "cell_type": "code",
   "execution_count": 627,
   "metadata": {},
   "outputs": [
    {
     "name": "stderr",
     "output_type": "stream",
     "text": [
      "/Library/Frameworks/Python.framework/Versions/3.7/lib/python3.7/site-packages/matplotlib/figure.py:445: UserWarning: Matplotlib is currently using module://ipykernel.pylab.backend_inline, which is a non-GUI backend, so cannot show the figure.\n",
      "  % get_backend())\n"
     ]
    },
    {
     "data": {
      "image/png": "[encoded data removed]",
      "text/plain": [
       "<Figure size 432x288 with 1 Axes>"
      ]
     },
     "metadata": {
      "needs_background": "light"
     },
     "output_type": "display_data"
    }
   ],
   "source": [
    "plot_convergence([2.5902169752952853,\n",
    " 2.6234816489525414,\n",
    " 2.7021897420159684,\n",
    " 2.74446873005213,\n",
    " 2.960513374241142,\n",
    " 3.154506500973039,\n",
    " 3.154506500973039,\n",
    " 3.2702757618713942,\n",
    " 3.2702757618713942,\n",
    " 3.2702757618713942])"
   ]
  },
  {
   "cell_type": "markdown",
   "metadata": {},
   "source": [
    "### Test 3"
   ]
  },
  {
   "cell_type": "code",
   "execution_count": 670,
   "metadata": {},
   "outputs": [
    {
     "name": "stdout",
     "output_type": "stream",
     "text": [
      "|   iter    |  target   |   beta    |   gamma   |\n",
      "-------------------------------------------------\n",
      "| \u001b[0m 1       \u001b[0m | \u001b[0m 0.7055  \u001b[0m | \u001b[0m 2.373   \u001b[0m | \u001b[0m 3.239   \u001b[0m |\n",
      "| \u001b[95m 2       \u001b[0m | \u001b[95m 0.7392  \u001b[0m | \u001b[95m 1.987   \u001b[0m | \u001b[95m 0.3859  \u001b[0m |\n",
      "| \u001b[95m 3       \u001b[0m | \u001b[95m 0.7747  \u001b[0m | \u001b[95m 0.7196  \u001b[0m | \u001b[95m 0.9606  \u001b[0m |\n",
      "| \u001b[95m 4       \u001b[0m | \u001b[95m 0.7866  \u001b[0m | \u001b[95m 2.677   \u001b[0m | \u001b[95m 5.51    \u001b[0m |\n",
      "| \u001b[0m 5       \u001b[0m | \u001b[0m 0.53    \u001b[0m | \u001b[0m 0.6735  \u001b[0m | \u001b[0m 2.017   \u001b[0m |\n",
      "| \u001b[95m 6       \u001b[0m | \u001b[95m 0.7894  \u001b[0m | \u001b[95m 0.0     \u001b[0m | \u001b[95m 6.283   \u001b[0m |\n",
      "| \u001b[0m 7       \u001b[0m | \u001b[0m 0.7747  \u001b[0m | \u001b[0m 0.0     \u001b[0m | \u001b[0m 0.0     \u001b[0m |\n",
      "| \u001b[95m 8       \u001b[0m | \u001b[95m 0.9132  \u001b[0m | \u001b[95m 3.142   \u001b[0m | \u001b[95m 1.812   \u001b[0m |\n",
      "| \u001b[0m 9       \u001b[0m | \u001b[0m 0.804   \u001b[0m | \u001b[0m 3.142   \u001b[0m | \u001b[0m 6.283   \u001b[0m |\n",
      "| \u001b[0m 10      \u001b[0m | \u001b[0m 0.6123  \u001b[0m | \u001b[0m 1.532   \u001b[0m | \u001b[0m 6.283   \u001b[0m |\n",
      "| \u001b[0m 11      \u001b[0m | \u001b[0m 0.5866  \u001b[0m | \u001b[0m 3.142   \u001b[0m | \u001b[0m 4.039   \u001b[0m |\n",
      "| \u001b[0m 12      \u001b[0m | \u001b[0m 0.7477  \u001b[0m | \u001b[0m 0.0     \u001b[0m | \u001b[0m 4.671   \u001b[0m |\n",
      "| \u001b[0m 13      \u001b[0m | \u001b[0m 0.7171  \u001b[0m | \u001b[0m 3.142   \u001b[0m | \u001b[0m 0.0     \u001b[0m |\n",
      "| \u001b[0m 14      \u001b[0m | \u001b[0m 0.8166  \u001b[0m | \u001b[0m 3.142   \u001b[0m | \u001b[0m 1.066   \u001b[0m |\n",
      "| \u001b[0m 15      \u001b[0m | \u001b[0m 0.7367  \u001b[0m | \u001b[0m 2.355   \u001b[0m | \u001b[0m 1.827   \u001b[0m |\n",
      "=================================================\n"
     ]
    }
   ],
   "source": [
    "convergence3 = qcpass(ibm_matrix, 10, 40, 2)"
   ]
  },
  {
   "cell_type": "code",
   "execution_count": 671,
   "metadata": {
    "scrolled": true
   },
   "outputs": [
    {
     "name": "stderr",
     "output_type": "stream",
     "text": [
      "/Library/Frameworks/Python.framework/Versions/3.7/lib/python3.7/site-packages/matplotlib/figure.py:445: UserWarning: Matplotlib is currently using module://ipykernel.pylab.backend_inline, which is a non-GUI backend, so cannot show the figure.\n",
      "  % get_backend())\n"
     ]
    },
    {
     "data": {
      "image/png": "[encoded data removed]",
      "text/plain": [
       "<Figure size 432x288 with 1 Axes>"
      ]
     },
     "metadata": {
      "needs_background": "light"
     },
     "output_type": "display_data"
    }
   ],
   "source": [
    "plot_convergence(convergence3)"
   ]
  },
  {
   "cell_type": "markdown",
   "metadata": {},
   "source": [
    "### Test 4"
   ]
  },
  {
   "cell_type": "code",
   "execution_count": 673,
   "metadata": {
    "scrolled": true
   },
   "outputs": [
    {
     "name": "stdout",
     "output_type": "stream",
     "text": [
      "|   iter    |  target   |   beta    |   gamma   |\n",
      "-------------------------------------------------\n",
      "| \u001b[0m 1       \u001b[0m | \u001b[0m 0.81    \u001b[0m | \u001b[0m 0.3611  \u001b[0m | \u001b[0m 5.001   \u001b[0m |\n",
      "| \u001b[95m 2       \u001b[0m | \u001b[95m 0.9897  \u001b[0m | \u001b[95m 0.08084 \u001b[0m | \u001b[95m 5.095   \u001b[0m |\n",
      "| \u001b[0m 3       \u001b[0m | \u001b[0m 0.7656  \u001b[0m | \u001b[0m 1.327   \u001b[0m | \u001b[0m 1.951   \u001b[0m |\n",
      "| \u001b[0m 4       \u001b[0m | \u001b[0m 0.7216  \u001b[0m | \u001b[0m 2.066   \u001b[0m | \u001b[0m 0.4962  \u001b[0m |\n",
      "| \u001b[0m 5       \u001b[0m | \u001b[0m 0.6884  \u001b[0m | \u001b[0m 1.445   \u001b[0m | \u001b[0m 5.688   \u001b[0m |\n",
      "| \u001b[0m 6       \u001b[0m | \u001b[0m 0.9414  \u001b[0m | \u001b[0m 0.0     \u001b[0m | \u001b[0m 0.0     \u001b[0m |\n",
      "| \u001b[0m 7       \u001b[0m | \u001b[0m 0.8499  \u001b[0m | \u001b[0m 0.0     \u001b[0m | \u001b[0m 6.283   \u001b[0m |\n",
      "| \u001b[0m 8       \u001b[0m | \u001b[0m 0.8262  \u001b[0m | \u001b[0m 3.142   \u001b[0m | \u001b[0m 6.283   \u001b[0m |\n",
      "| \u001b[0m 9       \u001b[0m | \u001b[0m 0.7951  \u001b[0m | \u001b[0m 3.142   \u001b[0m | \u001b[0m 3.279   \u001b[0m |\n",
      "| \u001b[0m 10      \u001b[0m | \u001b[0m 0.8613  \u001b[0m | \u001b[0m 0.0     \u001b[0m | \u001b[0m 2.709   \u001b[0m |\n",
      "| \u001b[0m 11      \u001b[0m | \u001b[0m 0.6941  \u001b[0m | \u001b[0m 3.142   \u001b[0m | \u001b[0m 1.467   \u001b[0m |\n",
      "| \u001b[0m 12      \u001b[0m | \u001b[0m 0.7226  \u001b[0m | \u001b[0m 0.0     \u001b[0m | \u001b[0m 1.219   \u001b[0m |\n",
      "| \u001b[0m 13      \u001b[0m | \u001b[0m 0.9551  \u001b[0m | \u001b[0m 3.142   \u001b[0m | \u001b[0m 0.0     \u001b[0m |\n",
      "| \u001b[0m 14      \u001b[0m | \u001b[0m 0.7707  \u001b[0m | \u001b[0m 3.142   \u001b[0m | \u001b[0m 4.908   \u001b[0m |\n",
      "| \u001b[0m 15      \u001b[0m | \u001b[0m 0.8636  \u001b[0m | \u001b[0m 0.0     \u001b[0m | \u001b[0m 4.029   \u001b[0m |\n",
      "=================================================\n"
     ]
    }
   ],
   "source": [
    "convergence4 = qcpass(ibm_matrix, 10, 100, 2)"
   ]
  },
  {
   "cell_type": "code",
   "execution_count": 674,
   "metadata": {},
   "outputs": [
    {
     "name": "stderr",
     "output_type": "stream",
     "text": [
      "/Library/Frameworks/Python.framework/Versions/3.7/lib/python3.7/site-packages/matplotlib/figure.py:445: UserWarning: Matplotlib is currently using module://ipykernel.pylab.backend_inline, which is a non-GUI backend, so cannot show the figure.\n",
      "  % get_backend())\n"
     ]
    },
    {
     "data": {
      "image/png": "[encoded data removed]",
      "text/plain": [
       "<Figure size 432x288 with 1 Axes>"
      ]
     },
     "metadata": {
      "needs_background": "light"
     },
     "output_type": "display_data"
    }
   ],
   "source": [
    "plot_convergence(convergence4)"
   ]
  },
  {
   "cell_type": "markdown",
   "metadata": {},
   "source": [
    "### Test 5\n"
   ]
  },
  {
   "cell_type": "code",
   "execution_count": null,
   "metadata": {},
   "outputs": [
    {
     "name": "stdout",
     "output_type": "stream",
     "text": [
      "Starting 1th test\n",
      "|   iter    |  target   |   beta    |   gamma   |\n",
      "-------------------------------------------------\n",
      "| \u001b[0m 1       \u001b[0m | \u001b[0m 0.6509  \u001b[0m | \u001b[0m 1.146   \u001b[0m | \u001b[0m 5.954   \u001b[0m |\n",
      "| \u001b[95m 2       \u001b[0m | \u001b[95m 0.8252  \u001b[0m | \u001b[95m 1.264   \u001b[0m | \u001b[95m 1.45    \u001b[0m |\n",
      "| \u001b[0m 3       \u001b[0m | \u001b[0m 0.6559  \u001b[0m | \u001b[0m 2.692   \u001b[0m | \u001b[0m 2.408   \u001b[0m |\n",
      "| \u001b[0m 4       \u001b[0m | \u001b[0m 0.7305  \u001b[0m | \u001b[0m 1.174   \u001b[0m | \u001b[0m 0.07727 \u001b[0m |\n",
      "| \u001b[0m 5       \u001b[0m | \u001b[0m 0.7299  \u001b[0m | \u001b[0m 2.956   \u001b[0m | \u001b[0m 3.875   \u001b[0m |\n",
      "| \u001b[0m 6       \u001b[0m | \u001b[0m 0.7398  \u001b[0m | \u001b[0m 0.0     \u001b[0m | \u001b[0m 3.168   \u001b[0m |\n",
      "| \u001b[0m 7       \u001b[0m | \u001b[0m 0.7831  \u001b[0m | \u001b[0m 3.142   \u001b[0m | \u001b[0m 6.283   \u001b[0m |\n",
      "| \u001b[0m 8       \u001b[0m | \u001b[0m 0.7165  \u001b[0m | \u001b[0m 0.0     \u001b[0m | \u001b[0m 0.5621  \u001b[0m |\n",
      "| \u001b[0m 9       \u001b[0m | \u001b[0m 0.6491  \u001b[0m | \u001b[0m 1.396   \u001b[0m | \u001b[0m 3.445   \u001b[0m |\n",
      "| \u001b[0m 10      \u001b[0m | \u001b[0m 0.6066  \u001b[0m | \u001b[0m 3.142   \u001b[0m | \u001b[0m 0.0     \u001b[0m |\n",
      "| \u001b[0m 11      \u001b[0m | \u001b[0m 0.6116  \u001b[0m | \u001b[0m 0.0     \u001b[0m | \u001b[0m 6.283   \u001b[0m |\n",
      "| \u001b[0m 12      \u001b[0m | \u001b[0m 0.6801  \u001b[0m | \u001b[0m 3.142   \u001b[0m | \u001b[0m 5.238   \u001b[0m |\n",
      "| \u001b[0m 13      \u001b[0m | \u001b[0m 0.5763  \u001b[0m | \u001b[0m 0.0     \u001b[0m | \u001b[0m 1.907   \u001b[0m |\n",
      "| \u001b[0m 14      \u001b[0m | \u001b[0m 0.665   \u001b[0m | \u001b[0m 0.0     \u001b[0m | \u001b[0m 4.686   \u001b[0m |\n"
     ]
    }
   ],
   "source": [
    "qcmultiple_pass(ibm_matrix, 5, n_iters=10, verbose = 2, shots = 30)"
   ]
  },
  {
   "cell_type": "code",
   "execution_count": null,
   "metadata": {},
   "outputs": [],
   "source": []
  }
 ],
 "metadata": {
  "kernelspec": {
   "display_name": "Python 3",
   "language": "python",
   "name": "python3"
  },
  "language_info": {
   "codemirror_mode": {
    "name": "ipython",
    "version": 3
   },
   "file_extension": ".py",
   "mimetype": "text/x-python",
   "name": "python",
   "nbconvert_exporter": "python",
   "pygments_lexer": "ipython3",
   "version": "3.7.1"
  }
 },
 "nbformat": 4,
 "nbformat_minor": 2
}
