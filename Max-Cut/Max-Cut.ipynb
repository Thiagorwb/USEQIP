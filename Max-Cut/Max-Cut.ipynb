{
 "cells": [
  {
   "cell_type": "code",
   "execution_count": 48,
   "metadata": {},
   "outputs": [],
   "source": [
    "import numpy as np\n",
    "from qiskit import *\n",
    "%matplotlib inline\n",
    "from qiskit.visualization import plot_histogram\n",
    "from qiskit.providers.ibmq import least_busy\n",
    "from qiskit.tools.monitor import job_monitor\n",
    "from qiskit import IBMQ\n",
    "from qiskit import BasicAer\n",
    "from math import pi\n",
    "import random\n",
    "from bayes_opt import BayesianOptimization\n",
    "\n"
   ]
  },
  {
   "cell_type": "markdown",
   "metadata": {},
   "source": [
    "## Single Unit QAOA Circuit"
   ]
  },
  {
   "cell_type": "markdown",
   "metadata": {},
   "source": [
    "Here I develop a single unit of the QAOA circuit. The unit requires its own angles $\\gamma$ and $\\beta$, as well as the global adjacency matrix and edge weights."
   ]
  },
  {
   "cell_type": "markdown",
   "metadata": {},
   "source": [
    "### Driver Circuit"
   ]
  },
  {
   "cell_type": "code",
   "execution_count": 3,
   "metadata": {},
   "outputs": [],
   "source": [
    "def driver_circuit(qregister, beta):\n",
    "    \"\"\"\n",
    "    input: qregister QuantumRegister object, arbitrary # of qubits\n",
    "            beta, specific rotation angle in radians in [0, pi]\n",
    "    output: QuantumCircuit object, driver\n",
    "    \"\"\"\n",
    "    driver = QuantumCircuit(qregister)\n",
    "    driver.rx(beta, qregister)\n",
    "    return driver"
   ]
  },
  {
   "cell_type": "code",
   "execution_count": 4,
   "metadata": {},
   "outputs": [],
   "source": [
    "q = QuantumRegister(3)"
   ]
  },
  {
   "cell_type": "code",
   "execution_count": 8,
   "metadata": {},
   "outputs": [
    {
     "data": {
      "text/html": [
       "<pre style=\"word-wrap: normal;white-space: pre;line-height: 15px;\">         ┌────────────┐\n",
       "q0_0: |0>┤ Rx(1.5708) ├\n",
       "         ├────────────┤\n",
       "q0_1: |0>┤ Rx(1.5708) ├\n",
       "         ├────────────┤\n",
       "q0_2: |0>┤ Rx(1.5708) ├\n",
       "         └────────────┘</pre>"
      ],
      "text/plain": [
       "<qiskit.visualization.text.TextDrawing at 0x11a744550>"
      ]
     },
     "execution_count": 8,
     "metadata": {},
     "output_type": "execute_result"
    }
   ],
   "source": [
    "driver_circuit(q, pi/2).draw()"
   ]
  },
  {
   "cell_type": "markdown",
   "metadata": {},
   "source": [
    "### Cost Circuit"
   ]
  },
  {
   "cell_type": "code",
   "execution_count": 23,
   "metadata": {},
   "outputs": [],
   "source": [
    "def cost_circuit(qregister, gamma, adjacency_matrix, edge_weights):\n",
    "    \"\"\"\n",
    "    input: - qregister QuantumRegister object, arbitrary # of qubits\n",
    "           - gamma, specific rotation angle in radians [0, 2pi]\n",
    "           - adjacency_matrix, list of lists where ij = 1 if qubits are connected by directed edge\n",
    "           - edge_weights, dictionary {(i, j):w_ij} mapping directed edge ij to weight w_ij\n",
    "           \n",
    "    output: QuantumCircuit object, cost unitary\n",
    "    \"\"\"\n",
    "    \n",
    "    # initialize circuit, and qubit count\n",
    "    N = len(adjacency_matrix)\n",
    "    cost = QuantumCircuit(qregister)\n",
    "    \n",
    "    # construct unit cost circuit, from commutivity\n",
    "    for i in range(N):\n",
    "        for j in range(N):\n",
    "            if adjacency_matrix[i][j] == 1 and i!= j:\n",
    "                \n",
    "                # basic cost unit\n",
    "                cost.cx(qregister[i], qregister[j])\n",
    "                cost.rz(gamma * edge_weights[(i, j)], qregister[j])\n",
    "                cost.cx(qregister[i], qregister[j])\n",
    "                \n",
    "    return cost\n",
    "    "
   ]
  },
  {
   "cell_type": "code",
   "execution_count": 24,
   "metadata": {},
   "outputs": [],
   "source": [
    "q = QuantumRegister(3)"
   ]
  },
  {
   "cell_type": "code",
   "execution_count": 25,
   "metadata": {},
   "outputs": [],
   "source": [
    "a = [[1, 1, 1], [1, 1, 1], [1, 1, 1]]\n",
    "w = np.zeros((3, 3))\n",
    "for i in range(len(w)):\n",
    "    for j in range(len(w)):\n",
    "        w[i, j] = random.random()"
   ]
  },
  {
   "cell_type": "code",
   "execution_count": 27,
   "metadata": {},
   "outputs": [
    {
     "data": {
      "text/html": [
       "<pre style=\"word-wrap: normal;white-space: pre;line-height: 15px;\">                                                           ┌───┐┌─────────────┐»\n",
       "q2_0: |0>──■───────────────────■────■───────────────────■──┤ X ├┤ Rz(0.68799) ├»\n",
       "         ┌─┴─┐┌─────────────┐┌─┴─┐  │                   │  └─┬─┘└─────────────┘»\n",
       "q2_1: |0>┤ X ├┤ Rz(0.39645) ├┤ X ├──┼───────────────────┼────■─────────────────»\n",
       "         └───┘└─────────────┘└───┘┌─┴─┐┌─────────────┐┌─┴─┐                    »\n",
       "q2_2: |0>─────────────────────────┤ X ├┤ Rz(0.17631) ├┤ X ├────────────────────»\n",
       "                                  └───┘└─────────────┘└───┘                    »\n",
       "«      ┌───┐                         ┌───┐┌─────────────┐┌───┐     »\n",
       "«q2_0: ┤ X ├─────────────────────────┤ X ├┤ Rz(0.61766) ├┤ X ├─────»\n",
       "«      └─┬─┘                         └─┬─┘└─────────────┘└─┬─┘┌───┐»\n",
       "«q2_1: ──■────■───────────────────■────┼───────────────────┼──┤ X ├»\n",
       "«           ┌─┴─┐┌─────────────┐┌─┴─┐  │                   │  └─┬─┘»\n",
       "«q2_2: ─────┤ X ├┤ Rz(0.17895) ├┤ X ├──■───────────────────■────■──»\n",
       "«           └───┘└─────────────┘└───┘                              »\n",
       "«                             \n",
       "«q2_0: ───────────────────────\n",
       "«      ┌────────────────┐┌───┐\n",
       "«q2_1: ┤ Rz(0.00095296) ├┤ X ├\n",
       "«      └────────────────┘└─┬─┘\n",
       "«q2_2: ────────────────────■──\n",
       "«                             </pre>"
      ],
      "text/plain": [
       "<qiskit.visualization.text.TextDrawing at 0x11a7445c0>"
      ]
     },
     "execution_count": 27,
     "metadata": {},
     "output_type": "execute_result"
    }
   ],
   "source": [
    "cost_circuit(q, pi/4, a, w).draw()"
   ]
  },
  {
   "cell_type": "markdown",
   "metadata": {},
   "source": [
    "### Single unit"
   ]
  },
  {
   "cell_type": "code",
   "execution_count": 28,
   "metadata": {},
   "outputs": [],
   "source": [
    "def unit_circuit(qregister, adjacency_matrix, edge_weights, gamma, beta):\n",
    "    return cost_circuit(qregister, gamma, adjacency_matrix, edge_weights) + driver_circuit(qregister, beta)"
   ]
  },
  {
   "cell_type": "code",
   "execution_count": 31,
   "metadata": {},
   "outputs": [],
   "source": [
    "unit_circuit(q, a, w, pi/8, pi/4).draw();"
   ]
  },
  {
   "cell_type": "markdown",
   "metadata": {},
   "source": [
    "## QAOA Circuit"
   ]
  },
  {
   "cell_type": "code",
   "execution_count": 33,
   "metadata": {},
   "outputs": [],
   "source": [
    "def QAOA(adjacency_matrix, edge_weights, gamma_list, beta_list):\n",
    "    \"\"\"\n",
    "    input: - adjacency_matrix, adjacency_matrix, list of lists where ij = 1 if qubits are connected by directed edge\n",
    "           - edge_weights, dictionary {(i, j):w_ij} mapping directed edge ij to weight w_ij\n",
    "           - gamma_list, list of cost angles\n",
    "           - beta_list, list of beta angles\n",
    "           \n",
    "    output: QuantumCircuit object, result of appending multiple circuits for various different angles\n",
    "            length of angles lists determines depth of circuit in unit_circuits\n",
    "    \"\"\"\n",
    "    \n",
    "    # initialize register and circuit\n",
    "    N = len(adjacency_matrix) \n",
    "    qregister = QuantumRegister(N)\n",
    "    circuit = QuantumCircuit(q)\n",
    "    \n",
    "    for gamma, beta in zip(gamma_list, beta_list):\n",
    "        circuit += unit_circuit(qregister, adjacency_matrix, edge_weights, gamma, beta)\n",
    "        \n",
    "    return circuit"
   ]
  },
  {
   "cell_type": "code",
   "execution_count": 39,
   "metadata": {},
   "outputs": [],
   "source": [
    "QAOA(a, w, [pi/4], [pi/6]).draw();"
   ]
  },
  {
   "cell_type": "markdown",
   "metadata": {},
   "source": [
    "## Calling the QC"
   ]
  },
  {
   "cell_type": "code",
   "execution_count": 49,
   "metadata": {},
   "outputs": [],
   "source": [
    "IBMQ.load_accounts(hub=None)"
   ]
  },
  {
   "cell_type": "code",
   "execution_count": 50,
   "metadata": {},
   "outputs": [
    {
     "name": "stdout",
     "output_type": "stream",
     "text": [
      "Available backends:\n"
     ]
    },
    {
     "data": {
      "text/plain": [
       "[<IBMQBackend('ibmqx4') from IBMQ()>,\n",
       " <IBMQBackend('ibmqx2') from IBMQ()>,\n",
       " <IBMQBackend('ibmq_16_melbourne') from IBMQ()>,\n",
       " <IBMQSimulator('ibmq_qasm_simulator') from IBMQ()>]"
      ]
     },
     "execution_count": 50,
     "metadata": {},
     "output_type": "execute_result"
    }
   ],
   "source": [
    "print(\"Available backends:\")\n",
    "IBMQ.backends()"
   ]
  },
  {
   "cell_type": "code",
   "execution_count": 51,
   "metadata": {},
   "outputs": [
    {
     "name": "stdout",
     "output_type": "stream",
     "text": [
      "The best backend is ibmqx4\n"
     ]
    }
   ],
   "source": [
    "from qiskit.providers.ibmq import least_busy\n",
    "\n",
    "large_enough_devices = IBMQ.backends(filters=lambda x: x.configuration().n_qubits < 10 and\n",
    "                                                       not x.configuration().simulator)\n",
    "backend = least_busy(large_enough_devices)\n",
    "print(\"The best backend is \" + backend.name())"
   ]
  },
  {
   "cell_type": "code",
   "execution_count": 52,
   "metadata": {},
   "outputs": [],
   "source": [
    "# construct adjacency matrix of specific layout\n",
    "adjacency = [[0, 1, 1, 0, 0], [0, 0, 1, 0, 0], [0, 0, 0, 0, 0], [0, 0, 1, 0, 1], [0, 0, 1, 0, 0]]"
   ]
  },
  {
   "cell_type": "code",
   "execution_count": 56,
   "metadata": {},
   "outputs": [],
   "source": [
    "# randomize edge weights\n",
    "wehts = [[random.random() for  i in range(len(adjacency))] for j in range(len(adjacency))]"
   ]
  },
  {
   "cell_type": "markdown",
   "metadata": {},
   "source": [
    "## Bayesian Optimization"
   ]
  },
  {
   "cell_type": "markdown",
   "metadata": {},
   "source": [
    "Here I use the Bayesian optimization package to optimize over the choice of gamma and beta. The depth, in the number of driving cycles p = 1, is assumed constant."
   ]
  },
  {
   "cell_type": "code",
   "execution_count": 41,
   "metadata": {},
   "outputs": [],
   "source": [
    "def optimizing_function(gamma, beta):\n",
    "    \n",
    "    "
   ]
  },
  {
   "cell_type": "code",
   "execution_count": 46,
   "metadata": {},
   "outputs": [],
   "source": [
    "def optimize(adjacency_matrix, edge_weights):\n",
    "    \n",
    "    pbounds = {'gamma':(0, 2*pi), 'beta':(0,  pi)}\n",
    "        \n",
    "    optimizer = BayesianOptimization(\n",
    "        f=optimizing_function,\n",
    "        pbounds=pbounds,\n",
    "        random_state=1,\n",
    "    )\n",
    "    \n",
    "    optimizer.maximize(\n",
    "    init_points=5,\n",
    "    n_iter=25,\n",
    "    )\n",
    "    \n",
    "    return\n",
    "    \n",
    "    \n",
    "    "
   ]
  },
  {
   "cell_type": "code",
   "execution_count": null,
   "metadata": {},
   "outputs": [],
   "source": []
  }
 ],
 "metadata": {
  "kernelspec": {
   "display_name": "Python 3",
   "language": "python",
   "name": "python3"
  },
  "language_info": {
   "codemirror_mode": {
    "name": "ipython",
    "version": 3
   },
   "file_extension": ".py",
   "mimetype": "text/x-python",
   "name": "python",
   "nbconvert_exporter": "python",
   "pygments_lexer": "ipython3",
   "version": "3.7.1"
  }
 },
 "nbformat": 4,
 "nbformat_minor": 2
}
